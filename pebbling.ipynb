{
 "cells": [
  {
   "cell_type": "code",
   "execution_count": 1,
   "metadata": {},
   "outputs": [],
   "source": [
    "import networkx as nx\n",
    "import numpy as np\n",
    "import matplotlib.pyplot as plt\n",
    "from numpy.random import randint\n",
    "from random import sample\n",
    "from copy import copy"
   ]
  },
  {
   "cell_type": "code",
   "execution_count": 2,
   "metadata": {
    "pycharm": {
     "name": "#%%\n"
    }
   },
   "outputs": [],
   "source": [
    "def can_place(peb_node, peb_step, P, G):\n",
    "    return peb_node not in P[peb_step] and set(G.predecessors(peb_node)) <= set(P[peb_step])\n",
    "\n",
    "def is_legal_classic(P, G):\n",
    "    n = G.number_of_nodes()\n",
    "    if 0 not in P[0] or n-1 not in P[-1]:\n",
    "        print('first step wrong', n, P)\n",
    "        return False\n",
    "\n",
    "    for i in range(1,len(P)):\n",
    "        for v in P[i]:\n",
    "            if not can_place(v, i-1, P, G):\n",
    "                print('illegal pebbling move')\n",
    "                print(G, v, i,P)\n",
    "                return False\n",
    "    return True\n",
    "\n",
    "class Pebbling():\n",
    "    def __init__(self, G, P):\n",
    "        self.G = G\n",
    "        self.P = P\n",
    "        # assert is_legal_classic(P, G)\n",
    "        self.n =  G.number_of_nodes()\n",
    "        self.pebbling_matrix = np.zeros((len(P), self.n))\n",
    "        for i in range(len(P)):\n",
    "            for v in P[i]:\n",
    "                self.pebbling_matrix[i][v] = 1\n",
    "\n",
    "    def show_graph(self):\n",
    "        nx.draw(self.G, with_labels=True)\n",
    "\n",
    "    def show_pebbling(self):\n",
    "        plt.matshow(self.pebbling_matrix)\n"
   ]
  },
  {
   "cell_type": "code",
   "execution_count": 89,
   "metadata": {
    "pycharm": {
     "name": "#%%\n"
    }
   },
   "outputs": [
    {
     "name": "stdout",
     "output_type": "stream",
     "text": [
      "set (None, 1)\n",
      "[0, 1, [5, 1000, [6]], -1, 2134]\n",
      "[[13, 12, 11, 10, 9], 8, [7, 6, 5], 4, [3], 2, 1]\n"
     ]
    }
   ],
   "source": [
    "from collections.abc import Iterable\n",
    "\n",
    "def flatten(xs):\n",
    "    for x in xs:\n",
    "        if isinstance(x, Iterable) and not isinstance(x, (int, str, bytes)):\n",
    "            yield from flatten(x)\n",
    "        else:\n",
    "            yield x\n",
    "\n",
    "def get_recursive(L, i):\n",
    "    print('starting', L,i)\n",
    "    if not isinstance(L, list):\n",
    "        if i == 0:\n",
    "            return L, i\n",
    "        else:\n",
    "            return None, i\n",
    "\n",
    "    for x in L:\n",
    "        if not isinstance(x, list):\n",
    "            if i == 0:\n",
    "                print('returning since we found it', x, i)\n",
    "                return x, i\n",
    "            else:\n",
    "                i -= 1\n",
    "        else:\n",
    "            y, j = get_recursive(x, i)\n",
    "            if j == 0:\n",
    "                if y is not None:\n",
    "                    return y, j\n",
    "            i -= i - j\n",
    "\n",
    "    return None, i\n",
    "\n",
    "def set_recursive(L, i, v):\n",
    "    # print('starting', L,i, v)\n",
    "    if not isinstance(L, list):\n",
    "        if i == 0:\n",
    "            return L, i\n",
    "        else:\n",
    "            return None, i\n",
    "    global_index = 0\n",
    "    for x in L:\n",
    "        if not isinstance(x, list):\n",
    "            if i == 0:\n",
    "                L[global_index] = v\n",
    "                # print('returning since we found it', x, i)\n",
    "                return x, i\n",
    "            else:\n",
    "                i -= 1\n",
    "        else:\n",
    "            y, j = set_recursive(x, i, v)\n",
    "            if j == 0:\n",
    "                if y is not None:\n",
    "                    x[i-j] = v\n",
    "                    return y, j\n",
    "            i -= i - j\n",
    "        global_index += 1\n",
    "\n",
    "    return None, i\n",
    "def get_intervals(k, c=1):\n",
    "    curr_partition = [0]\n",
    "\n",
    "    for i in range(1, k):\n",
    "        temp_partition = copy(curr_partition)\n",
    "        curr_partition = [curr_partition]\n",
    "        curr_partition.append(0)\n",
    "        for x in temp_partition:\n",
    "            curr_partition.append(x)\n",
    "\n",
    "    counter = 0\n",
    "    while True:\n",
    "        succ, _ = set_recursive(curr_partition, counter, counter)\n",
    "        # print(succ,'----------------')\n",
    "        if succ is None:\n",
    "            break\n",
    "        counter += 1\n",
    "    length = counter\n",
    "    counter -= 1\n",
    "    while counter >= 0:\n",
    "        succ, _ = set_recursive(curr_partition, counter, length-counter)\n",
    "        # print(succ,'----------------')\n",
    "        if succ is None:\n",
    "            break\n",
    "        counter -= 1\n",
    "    return curr_partition\n",
    "\n",
    "x=[0,1,[5,1000, [6]], -1,2134]\n",
    "print('set', set_recursive(x, 8, -1000000))\n",
    "print(x)\n",
    "print(get_intervals(4))"
   ]
  },
  {
   "cell_type": "code",
   "execution_count": 95,
   "outputs": [
    {
     "name": "stdout",
     "output_type": "stream",
     "text": [
      "[[7, 6, 5], 4, [3], 2, 1]\n",
      "[[]] start 1\n",
      "[[], [1]] after\n",
      "[[], [1]] start 5\n",
      "[[], [1], [1, 5]] after\n"
     ]
    },
    {
     "ename": "IndexError",
     "evalue": "list index out of range",
     "output_type": "error",
     "traceback": [
      "\u001B[1;31m---------------------------------------------------------------------------\u001B[0m",
      "\u001B[1;31mIndexError\u001B[0m                                Traceback (most recent call last)",
      "Cell \u001B[1;32mIn[95], line 36\u001B[0m\n\u001B[0;32m     34\u001B[0m \u001B[38;5;28mprint\u001B[39m(interval)\n\u001B[0;32m     35\u001B[0m P\u001B[38;5;241m=\u001B[39m[[]]\n\u001B[1;32m---> 36\u001B[0m \u001B[43mline_peb\u001B[49m\u001B[43m(\u001B[49m\u001B[38;5;241;43m2\u001B[39;49m\u001B[43m,\u001B[49m\u001B[43m \u001B[49m\u001B[43minterval\u001B[49m\u001B[43m,\u001B[49m\u001B[43m \u001B[49m\u001B[43mP\u001B[49m\u001B[43m)\u001B[49m\n\u001B[0;32m     37\u001B[0m \u001B[38;5;28mprint\u001B[39m(P)\n",
      "Cell \u001B[1;32mIn[95], line 19\u001B[0m, in \u001B[0;36mline_peb\u001B[1;34m(k, interval, P)\u001B[0m\n\u001B[0;32m     16\u001B[0m     \u001B[38;5;28;01mreturn\u001B[39;00m\n\u001B[0;32m     18\u001B[0m \u001B[38;5;28;01mfor\u001B[39;00m i \u001B[38;5;129;01min\u001B[39;00m \u001B[38;5;28mrange\u001B[39m(k):\n\u001B[1;32m---> 19\u001B[0m     \u001B[43mline_peb\u001B[49m\u001B[43m(\u001B[49m\u001B[43mk\u001B[49m\u001B[38;5;241;43m-\u001B[39;49m\u001B[43mi\u001B[49m\u001B[43m,\u001B[49m\u001B[43minterval\u001B[49m\u001B[43m[\u001B[49m\u001B[38;5;241;43m2\u001B[39;49m\u001B[38;5;241;43m*\u001B[39;49m\u001B[43m(\u001B[49m\u001B[43mk\u001B[49m\u001B[38;5;241;43m-\u001B[39;49m\u001B[43mi\u001B[49m\u001B[43m)\u001B[49m\u001B[43m]\u001B[49m\u001B[43m,\u001B[49m\u001B[43m \u001B[49m\u001B[43mP\u001B[49m\u001B[43m)\u001B[49m\n\u001B[0;32m     20\u001B[0m     place(\u001B[38;5;241m2\u001B[39m\u001B[38;5;241m*\u001B[39m(k\u001B[38;5;241m-\u001B[39mi)\u001B[38;5;241m+\u001B[39m\u001B[38;5;241m1\u001B[39m, P)\n\u001B[0;32m     21\u001B[0m     inv_line_peb(k\u001B[38;5;241m-\u001B[39mi,interval[\u001B[38;5;241m2\u001B[39m\u001B[38;5;241m*\u001B[39m(k\u001B[38;5;241m-\u001B[39mi)], P)\n",
      "Cell \u001B[1;32mIn[95], line 19\u001B[0m, in \u001B[0;36mline_peb\u001B[1;34m(k, interval, P)\u001B[0m\n\u001B[0;32m     16\u001B[0m     \u001B[38;5;28;01mreturn\u001B[39;00m\n\u001B[0;32m     18\u001B[0m \u001B[38;5;28;01mfor\u001B[39;00m i \u001B[38;5;129;01min\u001B[39;00m \u001B[38;5;28mrange\u001B[39m(k):\n\u001B[1;32m---> 19\u001B[0m     line_peb(k\u001B[38;5;241m-\u001B[39mi,\u001B[43minterval\u001B[49m\u001B[43m[\u001B[49m\u001B[38;5;241;43m2\u001B[39;49m\u001B[38;5;241;43m*\u001B[39;49m\u001B[43m(\u001B[49m\u001B[43mk\u001B[49m\u001B[38;5;241;43m-\u001B[39;49m\u001B[43mi\u001B[49m\u001B[43m)\u001B[49m\u001B[43m]\u001B[49m, P)\n\u001B[0;32m     20\u001B[0m     place(\u001B[38;5;241m2\u001B[39m\u001B[38;5;241m*\u001B[39m(k\u001B[38;5;241m-\u001B[39mi)\u001B[38;5;241m+\u001B[39m\u001B[38;5;241m1\u001B[39m, P)\n\u001B[0;32m     21\u001B[0m     inv_line_peb(k\u001B[38;5;241m-\u001B[39mi,interval[\u001B[38;5;241m2\u001B[39m\u001B[38;5;241m*\u001B[39m(k\u001B[38;5;241m-\u001B[39mi)], P)\n",
      "\u001B[1;31mIndexError\u001B[0m: list index out of range"
     ]
    }
   ],
   "source": [
    "def place(v, P):\n",
    "    print(P, 'start',v)\n",
    "    assert v not in P[-1]\n",
    "    P.append(copy(P[-1]))\n",
    "    P[-1].append(v)\n",
    "    print(P, 'after')\n",
    "\n",
    "def remove(v, P):\n",
    "    assert v in P[-1]\n",
    "    P.append(copy(P[-1]))\n",
    "    P[-1].remove(v)\n",
    "\n",
    "def line_peb(k, interval, P):\n",
    "    if isinstance(interval, int):\n",
    "        place(interval, P)\n",
    "        return\n",
    "\n",
    "    for i in range(k):\n",
    "        line_peb(k-i,interval[2*(k-i)], P)\n",
    "        place(2*(k-i)+1, P)\n",
    "        inv_line_peb(k-i,interval[2*(k-i)], P)\n",
    "\n",
    "def inv_line_peb(k, interval, P):\n",
    "\n",
    "    if isinstance(interval, int):\n",
    "        remove(interval, P)\n",
    "        return\n",
    "    for i in range(k,0, -1):\n",
    "        inv_line_peb(k-i, interval[2*(k-i)], P)\n",
    "        remove(2*(k-i)+1, P)\n",
    "        line_peb(k-i, interval[2*(k-i)], P)\n",
    "\n",
    "interval = get_intervals(3)\n",
    "print(interval)\n",
    "P=[[]]\n",
    "line_peb(2, interval, P)\n",
    "print(P)"
   ],
   "metadata": {
    "collapsed": false,
    "pycharm": {
     "name": "#%%\n"
    }
   }
  },
  {
   "cell_type": "code",
   "execution_count": null,
   "outputs": [],
   "source": [
    "def get_random_pebbling(G, max=30, p_max=.3):\n",
    "    n = G.number_of_nodes()\n",
    "    P = [[0]]\n",
    "    round = 1\n",
    "    while (n-1) not in P[-1]:\n",
    "        possible_adds = []\n",
    "        possible_dels = []\n",
    "        for v in range(n):\n",
    "            if can_place(v, -1, P, G):\n",
    "                print('can place', v)\n",
    "                possible_adds.append(v)\n",
    "            elif v in P[-1]:\n",
    "                possible_dels.append(v)\n",
    "\n",
    "        actual_adds = sample(possible_adds, randint(len(possible_adds)+1))\n",
    "        actual_dels = sample(possible_dels, randint(len(possible_dels)+1))\n",
    "\n",
    "        new_step = copy(P[-1])\n",
    "        for d in actual_dels:\n",
    "            if np.random.random() < p_max:\n",
    "                new_step.remove(d)\n",
    "\n",
    "        for a in actual_adds:\n",
    "            print('adding', a)\n",
    "            new_step.append(a)\n",
    "        if P[-1] != new_step:\n",
    "            P.append(new_step)\n",
    "        round += 1\n",
    "    P[-1] = [n-1]\n",
    "    return Pebbling(G, P)"
   ],
   "metadata": {
    "collapsed": false,
    "pycharm": {
     "name": "#%%\n"
    }
   }
  },
  {
   "cell_type": "code",
   "execution_count": 5,
   "metadata": {
    "pycharm": {
     "name": "#%%\n"
    }
   },
   "outputs": [
    {
     "name": "stdout",
     "output_type": "stream",
     "text": [
      "can place 1\n",
      "can place 0\n",
      "adding 0\n",
      "can place 1\n",
      "can place 1\n",
      "adding 1\n",
      "can place 2\n",
      "can place 2\n",
      "adding 2\n",
      "can place 3\n",
      "can place 1\n",
      "can place 3\n",
      "can place 1\n",
      "can place 3\n",
      "adding 3\n",
      "can place 1\n",
      "can place 4\n",
      "adding 1\n",
      "can place 4\n",
      "can place 4\n",
      "can place 4\n",
      "adding 4\n",
      "can place 2\n",
      "can place 5\n",
      "adding 2\n",
      "adding 5\n",
      "can place 3\n",
      "can place 6\n",
      "adding 6\n",
      "adding 3\n"
     ]
    },
    {
     "data": {
      "text/plain": "<Figure size 640x480 with 1 Axes>",
      "image/png": "[encoded data removed]"
     },
     "metadata": {},
     "output_type": "display_data"
    },
    {
     "data": {
      "text/plain": "<Figure size 400x628.571 with 1 Axes>",
      "image/png": "[encoded data removed]"
     },
     "metadata": {},
     "output_type": "display_data"
    }
   ],
   "source": [
    "n = 6\n",
    "G = nx.DiGraph([(i, i+1) for i in range(n)]+[(i, 2*i) for i in range(2,n//2)])\n",
    "# nx.draw(G, with_labels=True)\n",
    "P = get_random_pebbling(G)\n",
    "P.show_graph()\n",
    "# print(P.is_legal_classic())\n",
    "P.show_pebbling()"
   ]
  },
  {
   "cell_type": "code",
   "execution_count": 10,
   "metadata": {
    "pycharm": {
     "name": "#%%\n"
    }
   },
   "outputs": [
    {
     "data": {
      "text/plain": "range(0, 1)"
     },
     "execution_count": 10,
     "metadata": {},
     "output_type": "execute_result"
    }
   ],
   "source": [
    "range(1)"
   ]
  },
  {
   "cell_type": "code",
   "execution_count": 150,
   "metadata": {
    "pycharm": {
     "name": "#%%\n"
    }
   },
   "outputs": [
    {
     "name": "stdout",
     "output_type": "stream",
     "text": [
      "3\n"
     ]
    },
    {
     "ename": "TypeError",
     "evalue": "'int' object is not subscriptable",
     "output_type": "error",
     "traceback": [
      "\u001B[1;31m---------------------------------------------------------------------------\u001B[0m",
      "\u001B[1;31mTypeError\u001B[0m                                 Traceback (most recent call last)",
      "\u001B[1;32m<ipython-input-150-b54b6dca073b>\u001B[0m in \u001B[0;36m<module>\u001B[1;34m\u001B[0m\n\u001B[1;32m----> 1\u001B[1;33m \u001B[0mBennett\u001B[0m\u001B[1;33m(\u001B[0m\u001B[1;36m2\u001B[0m\u001B[1;33m,\u001B[0m \u001B[0minterval\u001B[0m\u001B[1;33m(\u001B[0m\u001B[1;36m2\u001B[0m\u001B[1;33m,\u001B[0m \u001B[1;36m1\u001B[0m\u001B[1;33m)\u001B[0m\u001B[1;33m,\u001B[0m \u001B[1;33m[\u001B[0m\u001B[1;33m]\u001B[0m\u001B[1;33m)\u001B[0m\u001B[1;33m\u001B[0m\u001B[1;33m\u001B[0m\u001B[0m\n\u001B[0m",
      "\u001B[1;32m<ipython-input-148-9a4b2243f459>\u001B[0m in \u001B[0;36mBennett\u001B[1;34m(k, interval, P)\u001B[0m\n\u001B[0;32m      3\u001B[0m         \u001B[1;32mreturn\u001B[0m \u001B[1;33m[\u001B[0m\u001B[1;33m]\u001B[0m\u001B[1;33m\u001B[0m\u001B[1;33m\u001B[0m\u001B[0m\n\u001B[0;32m      4\u001B[0m     \u001B[1;32mfor\u001B[0m \u001B[0mi\u001B[0m \u001B[1;32min\u001B[0m \u001B[0mrange\u001B[0m\u001B[1;33m(\u001B[0m\u001B[1;36m1\u001B[0m\u001B[1;33m,\u001B[0m\u001B[0mk\u001B[0m\u001B[1;33m+\u001B[0m\u001B[1;36m1\u001B[0m\u001B[1;33m)\u001B[0m\u001B[1;33m:\u001B[0m\u001B[1;33m\u001B[0m\u001B[1;33m\u001B[0m\u001B[0m\n\u001B[1;32m----> 5\u001B[1;33m         \u001B[0mP\u001B[0m \u001B[1;33m=\u001B[0m \u001B[0mP\u001B[0m \u001B[1;33m+\u001B[0m \u001B[0mBennett\u001B[0m\u001B[1;33m(\u001B[0m\u001B[0mk\u001B[0m\u001B[1;33m-\u001B[0m\u001B[0mi\u001B[0m\u001B[1;33m,\u001B[0m \u001B[0minterval\u001B[0m\u001B[1;33m[\u001B[0m\u001B[0mk\u001B[0m\u001B[1;33m-\u001B[0m\u001B[0mi\u001B[0m\u001B[1;33m]\u001B[0m\u001B[1;33m[\u001B[0m\u001B[1;33m:\u001B[0m\u001B[1;33m-\u001B[0m\u001B[1;36m1\u001B[0m\u001B[1;33m]\u001B[0m\u001B[1;33m,\u001B[0m \u001B[0mcopy\u001B[0m\u001B[1;33m(\u001B[0m\u001B[0mP\u001B[0m\u001B[1;33m)\u001B[0m\u001B[1;33m)\u001B[0m\u001B[1;33m\u001B[0m\u001B[1;33m\u001B[0m\u001B[0m\n\u001B[0m\u001B[0;32m      6\u001B[0m         \u001B[0mP\u001B[0m\u001B[1;33m.\u001B[0m\u001B[0mappend\u001B[0m\u001B[1;33m(\u001B[0m\u001B[0mP\u001B[0m\u001B[1;33m[\u001B[0m\u001B[1;33m-\u001B[0m\u001B[1;36m1\u001B[0m\u001B[1;33m]\u001B[0m\u001B[1;33m+\u001B[0m\u001B[1;33m[\u001B[0m\u001B[1;34m\"i_\"\u001B[0m\u001B[1;33m+\u001B[0m\u001B[0mstr\u001B[0m\u001B[1;33m(\u001B[0m\u001B[0mk\u001B[0m\u001B[1;33m-\u001B[0m\u001B[0mi\u001B[0m\u001B[1;33m)\u001B[0m\u001B[1;33m]\u001B[0m\u001B[1;33m)\u001B[0m\u001B[1;33m\u001B[0m\u001B[1;33m\u001B[0m\u001B[0m\n\u001B[0;32m      7\u001B[0m         \u001B[0mP\u001B[0m \u001B[1;33m=\u001B[0m \u001B[0mP\u001B[0m \u001B[1;33m+\u001B[0m \u001B[0mBennett_inv\u001B[0m\u001B[1;33m(\u001B[0m\u001B[0mk\u001B[0m\u001B[1;33m-\u001B[0m\u001B[0mi\u001B[0m\u001B[1;33m,\u001B[0m \u001B[0minterval\u001B[0m\u001B[1;33m[\u001B[0m\u001B[0mk\u001B[0m\u001B[1;33m-\u001B[0m\u001B[0mi\u001B[0m\u001B[1;33m]\u001B[0m\u001B[1;33m[\u001B[0m\u001B[1;33m:\u001B[0m\u001B[1;33m-\u001B[0m\u001B[1;36m1\u001B[0m\u001B[1;33m]\u001B[0m\u001B[1;33m,\u001B[0m \u001B[0mcopy\u001B[0m\u001B[1;33m(\u001B[0m\u001B[0mP\u001B[0m\u001B[1;33m)\u001B[0m\u001B[1;33m)\u001B[0m\u001B[1;33m\u001B[0m\u001B[1;33m\u001B[0m\u001B[0m\n",
      "\u001B[1;31mTypeError\u001B[0m: 'int' object is not subscriptable"
     ]
    }
   ],
   "source": [
    "Bennett(2, interval(2, 1), [])"
   ]
  },
  {
   "cell_type": "code",
   "execution_count": 12,
   "metadata": {
    "pycharm": {
     "name": "#%%\n"
    }
   },
   "outputs": [
    {
     "name": "stdout",
     "output_type": "stream",
     "text": [
      "0\n",
      "1\n",
      "0\n",
      "1\n",
      "1\n",
      "1\n",
      "0\n",
      "0\n",
      "1\n",
      "0\n"
     ]
    }
   ],
   "source": [
    "for i in range(10):\n",
    "    print(randint(2))"
   ]
  },
  {
   "cell_type": "code",
   "execution_count": 22,
   "outputs": [
    {
     "ename": "AttributeError",
     "evalue": "'list' object has no attribute 'remove_all'",
     "output_type": "error",
     "traceback": [
      "\u001B[1;31m---------------------------------------------------------------------------\u001B[0m",
      "\u001B[1;31mAttributeError\u001B[0m                            Traceback (most recent call last)",
      "Cell \u001B[1;32mIn[22], line 2\u001B[0m\n\u001B[0;32m      1\u001B[0m a\u001B[38;5;241m=\u001B[39m[\u001B[38;5;241m1\u001B[39m,\u001B[38;5;241m2\u001B[39m,\u001B[38;5;241m2\u001B[39m,\u001B[38;5;241m3\u001B[39m,\u001B[38;5;241m6\u001B[39m]\n\u001B[1;32m----> 2\u001B[0m \u001B[43ma\u001B[49m\u001B[38;5;241;43m.\u001B[39;49m\u001B[43mremove_all\u001B[49m(\u001B[38;5;241m3\u001B[39m,\u001B[38;5;241m2\u001B[39m)\n\u001B[0;32m      3\u001B[0m \u001B[38;5;28mprint\u001B[39m(a)\n",
      "\u001B[1;31mAttributeError\u001B[0m: 'list' object has no attribute 'remove_all'"
     ]
    }
   ],
   "source": [
    "a=[1,2,2,3,6]\n",
    "a.remove_all(3,2)\n",
    "print(a)"
   ],
   "metadata": {
    "collapsed": false,
    "pycharm": {
     "name": "#%%\n"
    }
   }
  },
  {
   "cell_type": "code",
   "execution_count": 131,
   "outputs": [
    {
     "name": "stdout",
     "output_type": "stream",
     "text": [
      "[2]\n"
     ]
    }
   ],
   "source": [
    "print(list(G.predecessors(3)))"
   ],
   "metadata": {
    "collapsed": false,
    "pycharm": {
     "name": "#%%\n"
    }
   }
  },
  {
   "cell_type": "code",
   "execution_count": 52,
   "outputs": [
    {
     "name": "stdout",
     "output_type": "stream",
     "text": [
      "[10, 9, 8, 7, 6, 5, 4, 3, 2, 1]\n",
      "None\n",
      "[3]\n"
     ]
    }
   ],
   "source": [
    " print(list(range(10,0,-1)))\n",
    "a=[1,3]\n",
    "print(a.remove(1))\n",
    "print(a)"
   ],
   "metadata": {
    "collapsed": false,
    "pycharm": {
     "name": "#%%\n"
    }
   }
  }
 ],
 "metadata": {
  "kernelspec": {
   "display_name": "Python 3",
   "language": "python",
   "name": "python3"
  },
  "language_info": {
   "codemirror_mode": {
    "name": "ipython",
    "version": 3
   },
   "file_extension": ".py",
   "mimetype": "text/x-python",
   "name": "python",
   "nbconvert_exporter": "python",
   "pygments_lexer": "ipython3",
   "version": "3.8.3"
  }
 },
 "nbformat": 4,
 "nbformat_minor": 1
}