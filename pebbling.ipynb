{
 "cells": [
  {
   "cell_type": "code",
   "execution_count": 1,
   "metadata": {},
   "outputs": [],
   "source": [
    "import networkx as nx\n",
    "import numpy as np\n",
    "import matplotlib.pyplot as plt\n",
    "from copy import copy"
   ]
  },
  {
   "cell_type": "code",
   "execution_count": 2,
   "metadata": {
    "pycharm": {
     "name": "#%%\n"
    }
   },
   "outputs": [],
   "source": [
    "class Pebbling():\n",
    "    def __init__(self, G, P):\n",
    "        self.G = G\n",
    "        self.P = P\n",
    "        self.n =  G.number_of_nodes()\n",
    "        self.pebbling_matrix = np.zeros((len(P), self.n))\n",
    "        for i in range(len(P)):\n",
    "            for v in P[i]:\n",
    "                self.pebbling_matrix[i][v] = 1\n",
    "\n",
    "    def is_legal_classic(self):\n",
    "        if self.P[0]!={0} or self.n-1 not in self.P[-1]:\n",
    "            return False\n",
    "\n",
    "        for i in range(1,len(self.P)):\n",
    "            for v in self.P[i]:\n",
    "                if not set(self.G.predecessors(v)) <= self.P[i-1]:\n",
    "                    return False\n",
    "        return True\n",
    "\n",
    "    def show_graph(self):\n",
    "        nx.draw(self.G, with_labels=True)\n",
    "\n",
    "    def show_pebbling(self):\n",
    "        plt.matshow(self.pebbling_matrix)"
   ]
  },
  {
   "cell_type": "code",
   "execution_count": 4,
   "metadata": {
    "pycharm": {
     "name": "#%%\n"
    }
   },
   "outputs": [
    {
     "name": "stdout",
     "output_type": "stream",
     "text": [
      "True\n"
     ]
    },
    {
     "data": {
      "image/png": "[encoded data removed]",
      "text/plain": [
       "<Figure size 432x288 with 1 Axes>"
      ]
     },
     "metadata": {},
     "output_type": "display_data"
    },
    {
     "data": {
      "image/png": "[encoded data removed]",
      "text/plain": [
       "<Figure size 288x288 with 1 Axes>"
      ]
     },
     "metadata": {
      "needs_background": "light"
     },
     "output_type": "display_data"
    }
   ],
   "source": [
    "G = nx.DiGraph([(0,1), (1,2), (2,3)])\n",
    "P = Pebbling(G, [{i} for i in range(0, 4)])\n",
    "P.show_graph()\n",
    "print(P.is_legal_classic())\n",
    "P.show_pebbling()"
   ]
  },
  {
   "cell_type": "code",
   "execution_count": 16,
   "metadata": {
    "pycharm": {
     "name": "#%%\n"
    }
   },
   "outputs": [
    {
     "name": "stdout",
     "output_type": "stream",
     "text": [
      "---\n",
      "3 **\n",
      "7 **\n",
      "11 **\n",
      "15 **\n",
      "19 **\n",
      "23 **\n",
      "27 **\n",
      "31 **\n",
      "[[[[1], 2, 3], 4, [5], 6, 7], 8, [[9], 10, 11], 12, [13], 14, 15]\n",
      "[[[17], 18, 19], 20, [21], 22, 23]\n",
      "[[25], 26, 27]\n",
      "[29]\n"
     ]
    }
   ],
   "source": [
    "def rec_val(L, i):\n",
    "    if not isinstance(L, list):\n",
    "        return L\n",
    "    else:\n",
    "        if len(L):\n",
    "            return rec_val(L[i],i)\n",
    "        else:\n",
    "            return None\n",
    "\n",
    "def get_next_start(intervals, start):\n",
    "    last = rec_val(intervals, -1)\n",
    "    if last is None:\n",
    "        return start\n",
    "    else:\n",
    "        return last + 1\n",
    "    \n",
    "def interval(k, start):\n",
    "    if k==0:\n",
    "        return []\n",
    "    if k==1:\n",
    "        return[start]\n",
    "    intervals = []\n",
    "    for i in range(1, k+1):\n",
    "        next_start = get_next_start(intervals, start)\n",
    "        next_inter = interval(k-i, next_start)\n",
    "        if len(next_inter):\n",
    "            intervals = intervals + [next_inter]\n",
    "        \n",
    "        intervals = intervals + [rec_val(intervals, -1)+1]\n",
    "    print(intervals[-1],'**')\n",
    "    return intervals\n",
    "\n",
    "def chunk_interval(I):\n",
    "    chunk = []\n",
    "    for i in I:\n",
    "        if isinstance(i,list):\n",
    "            chunk.append(i)\n",
    "        \n",
    "    return chunk\n",
    "\n",
    "print('---')\n",
    "for x in chunk_interval(interval(5, 1)):\n",
    "    print(x)"
   ]
  },
  {
   "cell_type": "code",
   "execution_count": 148,
   "metadata": {
    "pycharm": {
     "name": "#%%\n"
    }
   },
   "outputs": [],
   "source": [
    "def Bennett(k, interval, P):\n",
    "    if k == 0:\n",
    "        return P\n",
    "    if k == 1:\n",
    "        return P\n",
    "    for i in range(1,k+1):\n",
    "        P = P + Bennett(k-i, interval[k-i][:-1], copy(P))\n",
    "        P.append(P[-1]+[\"i_\"+str(k-i)])\n",
    "        P = P + Bennett_inv(k-i, interval[k-i][:-1], copy(P))\n",
    "    return P\n",
    "\n",
    "def Bennett_inv(k, interval, P):\n",
    "    if k == 0:\n",
    "        return []\n",
    "    for i in range(1,k+1):\n",
    "        P = P + Bennett_inv(k-i, interval[k-i][:-1], copy(P))\n",
    "        P.append(P[-1]+[\"i_\"+str(k-i)])\n",
    "        P = P + Bennett(k-i, interval[k-i][:-1], copy(P))\n",
    "    return P"
   ]
  },
  {
   "cell_type": "code",
   "execution_count": 149,
   "metadata": {
    "pycharm": {
     "name": "#%%\n"
    }
   },
   "outputs": [
    {
     "data": {
      "text/plain": [
       "range(0, 0)"
      ]
     },
     "execution_count": 149,
     "metadata": {},
     "output_type": "execute_result"
    }
   ],
   "source": [
    "range(0)"
   ]
  },
  {
   "cell_type": "code",
   "execution_count": 150,
   "metadata": {
    "pycharm": {
     "name": "#%%\n"
    }
   },
   "outputs": [
    {
     "name": "stdout",
     "output_type": "stream",
     "text": [
      "3\n"
     ]
    },
    {
     "ename": "TypeError",
     "evalue": "'int' object is not subscriptable",
     "output_type": "error",
     "traceback": [
      "\u001B[1;31m---------------------------------------------------------------------------\u001B[0m",
      "\u001B[1;31mTypeError\u001B[0m                                 Traceback (most recent call last)",
      "\u001B[1;32m<ipython-input-150-b54b6dca073b>\u001B[0m in \u001B[0;36m<module>\u001B[1;34m\u001B[0m\n\u001B[1;32m----> 1\u001B[1;33m \u001B[0mBennett\u001B[0m\u001B[1;33m(\u001B[0m\u001B[1;36m2\u001B[0m\u001B[1;33m,\u001B[0m \u001B[0minterval\u001B[0m\u001B[1;33m(\u001B[0m\u001B[1;36m2\u001B[0m\u001B[1;33m,\u001B[0m \u001B[1;36m1\u001B[0m\u001B[1;33m)\u001B[0m\u001B[1;33m,\u001B[0m \u001B[1;33m[\u001B[0m\u001B[1;33m]\u001B[0m\u001B[1;33m)\u001B[0m\u001B[1;33m\u001B[0m\u001B[1;33m\u001B[0m\u001B[0m\n\u001B[0m",
      "\u001B[1;32m<ipython-input-148-9a4b2243f459>\u001B[0m in \u001B[0;36mBennett\u001B[1;34m(k, interval, P)\u001B[0m\n\u001B[0;32m      3\u001B[0m         \u001B[1;32mreturn\u001B[0m \u001B[1;33m[\u001B[0m\u001B[1;33m]\u001B[0m\u001B[1;33m\u001B[0m\u001B[1;33m\u001B[0m\u001B[0m\n\u001B[0;32m      4\u001B[0m     \u001B[1;32mfor\u001B[0m \u001B[0mi\u001B[0m \u001B[1;32min\u001B[0m \u001B[0mrange\u001B[0m\u001B[1;33m(\u001B[0m\u001B[1;36m1\u001B[0m\u001B[1;33m,\u001B[0m\u001B[0mk\u001B[0m\u001B[1;33m+\u001B[0m\u001B[1;36m1\u001B[0m\u001B[1;33m)\u001B[0m\u001B[1;33m:\u001B[0m\u001B[1;33m\u001B[0m\u001B[1;33m\u001B[0m\u001B[0m\n\u001B[1;32m----> 5\u001B[1;33m         \u001B[0mP\u001B[0m \u001B[1;33m=\u001B[0m \u001B[0mP\u001B[0m \u001B[1;33m+\u001B[0m \u001B[0mBennett\u001B[0m\u001B[1;33m(\u001B[0m\u001B[0mk\u001B[0m\u001B[1;33m-\u001B[0m\u001B[0mi\u001B[0m\u001B[1;33m,\u001B[0m \u001B[0minterval\u001B[0m\u001B[1;33m[\u001B[0m\u001B[0mk\u001B[0m\u001B[1;33m-\u001B[0m\u001B[0mi\u001B[0m\u001B[1;33m]\u001B[0m\u001B[1;33m[\u001B[0m\u001B[1;33m:\u001B[0m\u001B[1;33m-\u001B[0m\u001B[1;36m1\u001B[0m\u001B[1;33m]\u001B[0m\u001B[1;33m,\u001B[0m \u001B[0mcopy\u001B[0m\u001B[1;33m(\u001B[0m\u001B[0mP\u001B[0m\u001B[1;33m)\u001B[0m\u001B[1;33m)\u001B[0m\u001B[1;33m\u001B[0m\u001B[1;33m\u001B[0m\u001B[0m\n\u001B[0m\u001B[0;32m      6\u001B[0m         \u001B[0mP\u001B[0m\u001B[1;33m.\u001B[0m\u001B[0mappend\u001B[0m\u001B[1;33m(\u001B[0m\u001B[0mP\u001B[0m\u001B[1;33m[\u001B[0m\u001B[1;33m-\u001B[0m\u001B[1;36m1\u001B[0m\u001B[1;33m]\u001B[0m\u001B[1;33m+\u001B[0m\u001B[1;33m[\u001B[0m\u001B[1;34m\"i_\"\u001B[0m\u001B[1;33m+\u001B[0m\u001B[0mstr\u001B[0m\u001B[1;33m(\u001B[0m\u001B[0mk\u001B[0m\u001B[1;33m-\u001B[0m\u001B[0mi\u001B[0m\u001B[1;33m)\u001B[0m\u001B[1;33m]\u001B[0m\u001B[1;33m)\u001B[0m\u001B[1;33m\u001B[0m\u001B[1;33m\u001B[0m\u001B[0m\n\u001B[0;32m      7\u001B[0m         \u001B[0mP\u001B[0m \u001B[1;33m=\u001B[0m \u001B[0mP\u001B[0m \u001B[1;33m+\u001B[0m \u001B[0mBennett_inv\u001B[0m\u001B[1;33m(\u001B[0m\u001B[0mk\u001B[0m\u001B[1;33m-\u001B[0m\u001B[0mi\u001B[0m\u001B[1;33m,\u001B[0m \u001B[0minterval\u001B[0m\u001B[1;33m[\u001B[0m\u001B[0mk\u001B[0m\u001B[1;33m-\u001B[0m\u001B[0mi\u001B[0m\u001B[1;33m]\u001B[0m\u001B[1;33m[\u001B[0m\u001B[1;33m:\u001B[0m\u001B[1;33m-\u001B[0m\u001B[1;36m1\u001B[0m\u001B[1;33m]\u001B[0m\u001B[1;33m,\u001B[0m \u001B[0mcopy\u001B[0m\u001B[1;33m(\u001B[0m\u001B[0mP\u001B[0m\u001B[1;33m)\u001B[0m\u001B[1;33m)\u001B[0m\u001B[1;33m\u001B[0m\u001B[1;33m\u001B[0m\u001B[0m\n",
      "\u001B[1;31mTypeError\u001B[0m: 'int' object is not subscriptable"
     ]
    }
   ],
   "source": [
    "Bennett(2, interval(2, 1), [])"
   ]
  },
  {
   "cell_type": "code",
   "execution_count": null,
   "metadata": {
    "pycharm": {
     "name": "#%%\n"
    }
   },
   "outputs": [],
   "source": []
  }
 ],
 "metadata": {
  "kernelspec": {
   "display_name": "Python 3",
   "language": "python",
   "name": "python3"
  },
  "language_info": {
   "codemirror_mode": {
    "name": "ipython",
    "version": 3
   },
   "file_extension": ".py",
   "mimetype": "text/x-python",
   "name": "python",
   "nbconvert_exporter": "python",
   "pygments_lexer": "ipython3",
   "version": "3.8.3"
  }
 },
 "nbformat": 4,
 "nbformat_minor": 1
}